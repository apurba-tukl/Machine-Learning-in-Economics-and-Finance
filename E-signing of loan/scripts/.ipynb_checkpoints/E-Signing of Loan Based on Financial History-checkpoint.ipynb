{
 "cells": [
  {
   "cell_type": "markdown",
   "metadata": {},
   "source": [
    "<center><h1>E-Signing of Loan Based on Financial History</h1></center>"
   ]
  },
  {
   "cell_type": "markdown",
   "metadata": {},
   "source": [
    "<div>\n",
    "<img src=\"../images/logo.jpg\" width=\"900\"/>\n",
    "</div>"
   ]
  },
  {
   "cell_type": "markdown",
   "metadata": {},
   "source": [
    "<h4>ESignature:</h4>\n",
    "<br>\n",
    "<p style=\"text-indent:5em\">Electronic signatures aren’t exactly a novelty. They have been around since the American Civil War, during which contracts were signed through Morse. In a modern setting, an e-Sign refers to a unique, digitised, encrypted personal identifier. This is, in essence, different from the ‘wet’ signatures created by hand. The e-Sign is meant to complete transactions, loops, and agreements electronically.</p>\n",
    "\n",
    "<p style=\"text-indent:5em\">In India, the e-Sign has been granted legal status by amendments to various laws, namely the Information Technology Act, Indian Evidence Act and the Negotiable Instruments Act. Early adopters in the financial sector have started using e-Sign to get customers to sign loan and card applications, and loan agreements.</p>\n",
    "\n"
   ]
  },
  {
   "cell_type": "markdown",
   "metadata": {},
   "source": [
    "### Importing the Library"
   ]
  },
  {
   "cell_type": "code",
   "execution_count": 1,
   "metadata": {},
   "outputs": [],
   "source": [
    "#importing library for reading, writing and perform basic operations\n",
    "import pandas as pd\n",
    "import numpy as np\n",
    "\n",
    "#Importing library for Visualization\n",
    "import matplotlib.pyplot as plt\n",
    "import seaborn as sns\n",
    "%matplotlib inline\n",
    "\n",
    "#Importing the library for evaluating the model\n",
    "from sklearn.metrics import accuracy_score\n",
    "\n",
    "import warnings\n",
    "warnings.filterwarnings(\"ignore\")"
   ]
  },
  {
   "cell_type": "markdown",
   "metadata": {},
   "source": [
    "### Reading the Data"
   ]
  },
  {
   "cell_type": "code",
   "execution_count": 2,
   "metadata": {},
   "outputs": [
    {
     "data": {
      "text/html": [
       "<div>\n",
       "<style scoped>\n",
       "    .dataframe tbody tr th:only-of-type {\n",
       "        vertical-align: middle;\n",
       "    }\n",
       "\n",
       "    .dataframe tbody tr th {\n",
       "        vertical-align: top;\n",
       "    }\n",
       "\n",
       "    .dataframe thead th {\n",
       "        text-align: right;\n",
       "    }\n",
       "</style>\n",
       "<table border=\"1\" class=\"dataframe\">\n",
       "  <thead>\n",
       "    <tr style=\"text-align: right;\">\n",
       "      <th></th>\n",
       "      <th>entry_id</th>\n",
       "      <th>age</th>\n",
       "      <th>pay_schedule</th>\n",
       "      <th>home_owner</th>\n",
       "      <th>income</th>\n",
       "      <th>months_employed</th>\n",
       "      <th>years_employed</th>\n",
       "      <th>current_address_year</th>\n",
       "      <th>personal_account_m</th>\n",
       "      <th>personal_account_y</th>\n",
       "      <th>...</th>\n",
       "      <th>amount_requested</th>\n",
       "      <th>risk_score</th>\n",
       "      <th>risk_score_2</th>\n",
       "      <th>risk_score_3</th>\n",
       "      <th>risk_score_4</th>\n",
       "      <th>risk_score_5</th>\n",
       "      <th>ext_quality_score</th>\n",
       "      <th>ext_quality_score_2</th>\n",
       "      <th>inquiries_last_month</th>\n",
       "      <th>e_signed</th>\n",
       "    </tr>\n",
       "  </thead>\n",
       "  <tbody>\n",
       "    <tr>\n",
       "      <th>0</th>\n",
       "      <td>7629673</td>\n",
       "      <td>40</td>\n",
       "      <td>bi-weekly</td>\n",
       "      <td>1</td>\n",
       "      <td>3135</td>\n",
       "      <td>0</td>\n",
       "      <td>3</td>\n",
       "      <td>3</td>\n",
       "      <td>6</td>\n",
       "      <td>2</td>\n",
       "      <td>...</td>\n",
       "      <td>550</td>\n",
       "      <td>36200</td>\n",
       "      <td>0.737398</td>\n",
       "      <td>0.903517</td>\n",
       "      <td>0.487712</td>\n",
       "      <td>0.515977</td>\n",
       "      <td>0.580918</td>\n",
       "      <td>0.380918</td>\n",
       "      <td>10</td>\n",
       "      <td>1</td>\n",
       "    </tr>\n",
       "    <tr>\n",
       "      <th>1</th>\n",
       "      <td>3560428</td>\n",
       "      <td>61</td>\n",
       "      <td>weekly</td>\n",
       "      <td>0</td>\n",
       "      <td>3180</td>\n",
       "      <td>0</td>\n",
       "      <td>6</td>\n",
       "      <td>3</td>\n",
       "      <td>2</td>\n",
       "      <td>7</td>\n",
       "      <td>...</td>\n",
       "      <td>600</td>\n",
       "      <td>30150</td>\n",
       "      <td>0.738510</td>\n",
       "      <td>0.881027</td>\n",
       "      <td>0.713423</td>\n",
       "      <td>0.826402</td>\n",
       "      <td>0.730720</td>\n",
       "      <td>0.630720</td>\n",
       "      <td>9</td>\n",
       "      <td>0</td>\n",
       "    </tr>\n",
       "    <tr>\n",
       "      <th>2</th>\n",
       "      <td>6934997</td>\n",
       "      <td>23</td>\n",
       "      <td>weekly</td>\n",
       "      <td>0</td>\n",
       "      <td>1540</td>\n",
       "      <td>6</td>\n",
       "      <td>0</td>\n",
       "      <td>0</td>\n",
       "      <td>7</td>\n",
       "      <td>1</td>\n",
       "      <td>...</td>\n",
       "      <td>450</td>\n",
       "      <td>34550</td>\n",
       "      <td>0.642993</td>\n",
       "      <td>0.766554</td>\n",
       "      <td>0.595018</td>\n",
       "      <td>0.762284</td>\n",
       "      <td>0.531712</td>\n",
       "      <td>0.531712</td>\n",
       "      <td>7</td>\n",
       "      <td>0</td>\n",
       "    </tr>\n",
       "    <tr>\n",
       "      <th>3</th>\n",
       "      <td>5682812</td>\n",
       "      <td>40</td>\n",
       "      <td>bi-weekly</td>\n",
       "      <td>0</td>\n",
       "      <td>5230</td>\n",
       "      <td>0</td>\n",
       "      <td>6</td>\n",
       "      <td>1</td>\n",
       "      <td>2</td>\n",
       "      <td>7</td>\n",
       "      <td>...</td>\n",
       "      <td>700</td>\n",
       "      <td>42150</td>\n",
       "      <td>0.665224</td>\n",
       "      <td>0.960832</td>\n",
       "      <td>0.767828</td>\n",
       "      <td>0.778831</td>\n",
       "      <td>0.792552</td>\n",
       "      <td>0.592552</td>\n",
       "      <td>8</td>\n",
       "      <td>1</td>\n",
       "    </tr>\n",
       "    <tr>\n",
       "      <th>4</th>\n",
       "      <td>5335819</td>\n",
       "      <td>33</td>\n",
       "      <td>semi-monthly</td>\n",
       "      <td>0</td>\n",
       "      <td>3590</td>\n",
       "      <td>0</td>\n",
       "      <td>5</td>\n",
       "      <td>2</td>\n",
       "      <td>2</td>\n",
       "      <td>8</td>\n",
       "      <td>...</td>\n",
       "      <td>1100</td>\n",
       "      <td>53850</td>\n",
       "      <td>0.617361</td>\n",
       "      <td>0.857560</td>\n",
       "      <td>0.613487</td>\n",
       "      <td>0.665523</td>\n",
       "      <td>0.744634</td>\n",
       "      <td>0.744634</td>\n",
       "      <td>12</td>\n",
       "      <td>0</td>\n",
       "    </tr>\n",
       "  </tbody>\n",
       "</table>\n",
       "<p>5 rows × 21 columns</p>\n",
       "</div>"
      ],
      "text/plain": [
       "   entry_id  age  pay_schedule  home_owner  income  months_employed  \\\n",
       "0   7629673   40     bi-weekly           1    3135                0   \n",
       "1   3560428   61        weekly           0    3180                0   \n",
       "2   6934997   23        weekly           0    1540                6   \n",
       "3   5682812   40     bi-weekly           0    5230                0   \n",
       "4   5335819   33  semi-monthly           0    3590                0   \n",
       "\n",
       "   years_employed  current_address_year  personal_account_m  \\\n",
       "0               3                     3                   6   \n",
       "1               6                     3                   2   \n",
       "2               0                     0                   7   \n",
       "3               6                     1                   2   \n",
       "4               5                     2                   2   \n",
       "\n",
       "   personal_account_y  ...  amount_requested  risk_score  risk_score_2  \\\n",
       "0                   2  ...               550       36200      0.737398   \n",
       "1                   7  ...               600       30150      0.738510   \n",
       "2                   1  ...               450       34550      0.642993   \n",
       "3                   7  ...               700       42150      0.665224   \n",
       "4                   8  ...              1100       53850      0.617361   \n",
       "\n",
       "   risk_score_3  risk_score_4  risk_score_5  ext_quality_score  \\\n",
       "0      0.903517      0.487712      0.515977           0.580918   \n",
       "1      0.881027      0.713423      0.826402           0.730720   \n",
       "2      0.766554      0.595018      0.762284           0.531712   \n",
       "3      0.960832      0.767828      0.778831           0.792552   \n",
       "4      0.857560      0.613487      0.665523           0.744634   \n",
       "\n",
       "   ext_quality_score_2  inquiries_last_month  e_signed  \n",
       "0             0.380918                    10         1  \n",
       "1             0.630720                     9         0  \n",
       "2             0.531712                     7         0  \n",
       "3             0.592552                     8         1  \n",
       "4             0.744634                    12         0  \n",
       "\n",
       "[5 rows x 21 columns]"
      ]
     },
     "execution_count": 2,
     "metadata": {},
     "output_type": "execute_result"
    }
   ],
   "source": [
    "df=pd.read_csv(\"../data/financial_data.csv\")\n",
    "df.head()"
   ]
  },
  {
   "cell_type": "markdown",
   "metadata": {},
   "source": [
    "### Exploring the Data"
   ]
  },
  {
   "cell_type": "code",
   "execution_count": 3,
   "metadata": {},
   "outputs": [
    {
     "name": "stdout",
     "output_type": "stream",
     "text": [
      "9639\n",
      "8269\n"
     ]
    }
   ],
   "source": [
    "#Finding the count of each class of dependent variable\n",
    "print(sum(df[\"e_signed\"]==1))\n",
    "print(sum(df[\"e_signed\"]==0))"
   ]
  },
  {
   "cell_type": "code",
   "execution_count": 12,
   "metadata": {},
   "outputs": [
    {
     "name": "stdout",
     "output_type": "stream",
     "text": [
      "                      percent_missing\n",
      "entry_id                          0.0\n",
      "age                               0.0\n",
      "pay_schedule                      0.0\n",
      "home_owner                        0.0\n",
      "income                            0.0\n",
      "months_employed                   0.0\n",
      "years_employed                    0.0\n",
      "current_address_year              0.0\n",
      "personal_account_m                0.0\n",
      "personal_account_y                0.0\n",
      "has_debt                          0.0\n",
      "amount_requested                  0.0\n",
      "risk_score                        0.0\n",
      "risk_score_2                      0.0\n",
      "risk_score_3                      0.0\n",
      "risk_score_4                      0.0\n",
      "risk_score_5                      0.0\n",
      "ext_quality_score                 0.0\n",
      "ext_quality_score_2               0.0\n",
      "inquiries_last_month              0.0\n",
      "e_signed                          0.0\n"
     ]
    }
   ],
   "source": [
    "#Checking for percentage of missing data in each column\n",
    "percent_missing = df.isnull().sum() * 100 / len(df)                \n",
    "missing_value_df = pd.DataFrame({'percent_missing': percent_missing})          \n",
    "\n",
    "print(missing_value_df)"
   ]
  },
  {
   "cell_type": "markdown",
   "metadata": {},
   "source": [
    "<p style=\"text-indent:5em\">We see that the data is not highly imbalanced since the ratio between the count of two classes of dependent variable is not so high."
   ]
  },
  {
   "cell_type": "code",
   "execution_count": 11,
   "metadata": {},
   "outputs": [
    {
     "data": {
      "image/png": "[encoded data removed]",
      "text/plain": [
       "<Figure size 1080x864 with 18 Axes>"
      ]
     },
     "metadata": {
      "needs_background": "light"
     },
     "output_type": "display_data"
    }
   ],
   "source": [
    "#Dropping the unnecessary columns\n",
    "dataset2 = df.drop(columns = ['entry_id', 'pay_schedule', 'e_signed'])\n",
    "\n",
    "fig = plt.figure(figsize=(15, 12))\n",
    "\n",
    "plt.suptitle('Histograms of Numerical Columns', fontsize=20)\n",
    "for i in range(dataset2.shape[1]):\n",
    "    plt.subplot(6, 3, i + 1)\n",
    "    f = plt.gca()\n",
    "    f.set_title(dataset2.columns.values[i])\n",
    "\n",
    "    total_entries = np.size(dataset2.iloc[:, i].unique())\n",
    "    if total_entries >= 100:\n",
    "        total_entries = 100\n",
    "\n",
    "    plt.hist(dataset2.iloc[:, i], bins=total_entries, color='#3F5D7D')\n",
    "\n",
    "plt.tight_layout(rect=[0, 0.03, 1, 0.95])"
   ]
  },
  {
   "cell_type": "code",
   "execution_count": 17,
   "metadata": {},
   "outputs": [
    {
     "data": {
      "text/plain": [
       "<matplotlib.axes._subplots.AxesSubplot at 0x1a19eb4550>"
      ]
     },
     "execution_count": 17,
     "metadata": {},
     "output_type": "execute_result"
    },
    {
     "data": {
      "image/png": "[encoded data removed]",
      "text/plain": [
       "<Figure size 1440x720 with 1 Axes>"
      ]
     },
     "metadata": {
      "needs_background": "light"
     },
     "output_type": "display_data"
    }
   ],
   "source": [
    "#Correlation of independent variable with dependent variable\n",
    "\n",
    "dataset2.corrwith(df.e_signed).plot.bar(figsize=(20,10),title=\"correlation wigh E signed\",\n",
    "                                             fontsize=20,rot=90,grid= True,color=['blue'])"
   ]
  },
  {
   "cell_type": "code",
   "execution_count": 22,
   "metadata": {},
   "outputs": [
    {
     "data": {
      "text/plain": [
       "<matplotlib.axes._subplots.AxesSubplot at 0x1a1ab14748>"
      ]
     },
     "execution_count": 22,
     "metadata": {},
     "output_type": "execute_result"
    },
    {
     "data": {
      "image/png": "[encoded data removed]",
      "text/plain": [
       "<Figure size 1440x1440 with 2 Axes>"
      ]
     },
     "metadata": {
      "needs_background": "light"
     },
     "output_type": "display_data"
    }
   ],
   "source": [
    "#plotting the heatmap of the correlation matrix\n",
    "plt.figure(figsize=(20,20))\n",
    "sns.heatmap(df.corr(),annot=True) "
   ]
  },
  {
   "cell_type": "code",
   "execution_count": 23,
   "metadata": {},
   "outputs": [],
   "source": [
    "#Initiatizig into new variable and creating the dummy variable for categorical data\n",
    "data=df\n",
    "dummy=pd.get_dummies(data[\"pay_schedule\"])"
   ]
  },
  {
   "cell_type": "code",
   "execution_count": 24,
   "metadata": {},
   "outputs": [
    {
     "data": {
      "text/html": [
       "<div>\n",
       "<style scoped>\n",
       "    .dataframe tbody tr th:only-of-type {\n",
       "        vertical-align: middle;\n",
       "    }\n",
       "\n",
       "    .dataframe tbody tr th {\n",
       "        vertical-align: top;\n",
       "    }\n",
       "\n",
       "    .dataframe thead th {\n",
       "        text-align: right;\n",
       "    }\n",
       "</style>\n",
       "<table border=\"1\" class=\"dataframe\">\n",
       "  <thead>\n",
       "    <tr style=\"text-align: right;\">\n",
       "      <th></th>\n",
       "      <th>bi-weekly</th>\n",
       "      <th>monthly</th>\n",
       "      <th>semi-monthly</th>\n",
       "      <th>weekly</th>\n",
       "    </tr>\n",
       "  </thead>\n",
       "  <tbody>\n",
       "    <tr>\n",
       "      <th>0</th>\n",
       "      <td>1</td>\n",
       "      <td>0</td>\n",
       "      <td>0</td>\n",
       "      <td>0</td>\n",
       "    </tr>\n",
       "    <tr>\n",
       "      <th>1</th>\n",
       "      <td>0</td>\n",
       "      <td>0</td>\n",
       "      <td>0</td>\n",
       "      <td>1</td>\n",
       "    </tr>\n",
       "    <tr>\n",
       "      <th>2</th>\n",
       "      <td>0</td>\n",
       "      <td>0</td>\n",
       "      <td>0</td>\n",
       "      <td>1</td>\n",
       "    </tr>\n",
       "    <tr>\n",
       "      <th>3</th>\n",
       "      <td>1</td>\n",
       "      <td>0</td>\n",
       "      <td>0</td>\n",
       "      <td>0</td>\n",
       "    </tr>\n",
       "    <tr>\n",
       "      <th>4</th>\n",
       "      <td>0</td>\n",
       "      <td>0</td>\n",
       "      <td>1</td>\n",
       "      <td>0</td>\n",
       "    </tr>\n",
       "    <tr>\n",
       "      <th>...</th>\n",
       "      <td>...</td>\n",
       "      <td>...</td>\n",
       "      <td>...</td>\n",
       "      <td>...</td>\n",
       "    </tr>\n",
       "    <tr>\n",
       "      <th>17903</th>\n",
       "      <td>0</td>\n",
       "      <td>1</td>\n",
       "      <td>0</td>\n",
       "      <td>0</td>\n",
       "    </tr>\n",
       "    <tr>\n",
       "      <th>17904</th>\n",
       "      <td>1</td>\n",
       "      <td>0</td>\n",
       "      <td>0</td>\n",
       "      <td>0</td>\n",
       "    </tr>\n",
       "    <tr>\n",
       "      <th>17905</th>\n",
       "      <td>0</td>\n",
       "      <td>0</td>\n",
       "      <td>0</td>\n",
       "      <td>1</td>\n",
       "    </tr>\n",
       "    <tr>\n",
       "      <th>17906</th>\n",
       "      <td>1</td>\n",
       "      <td>0</td>\n",
       "      <td>0</td>\n",
       "      <td>0</td>\n",
       "    </tr>\n",
       "    <tr>\n",
       "      <th>17907</th>\n",
       "      <td>0</td>\n",
       "      <td>0</td>\n",
       "      <td>0</td>\n",
       "      <td>1</td>\n",
       "    </tr>\n",
       "  </tbody>\n",
       "</table>\n",
       "<p>17908 rows × 4 columns</p>\n",
       "</div>"
      ],
      "text/plain": [
       "       bi-weekly  monthly  semi-monthly  weekly\n",
       "0              1        0             0       0\n",
       "1              0        0             0       1\n",
       "2              0        0             0       1\n",
       "3              1        0             0       0\n",
       "4              0        0             1       0\n",
       "...          ...      ...           ...     ...\n",
       "17903          0        1             0       0\n",
       "17904          1        0             0       0\n",
       "17905          0        0             0       1\n",
       "17906          1        0             0       0\n",
       "17907          0        0             0       1\n",
       "\n",
       "[17908 rows x 4 columns]"
      ]
     },
     "execution_count": 24,
     "metadata": {},
     "output_type": "execute_result"
    }
   ],
   "source": [
    "dummy"
   ]
  },
  {
   "cell_type": "code",
   "execution_count": 25,
   "metadata": {},
   "outputs": [],
   "source": [
    "dummy=dummy.drop(labels=[\"bi-weekly\"],axis=1)"
   ]
  },
  {
   "cell_type": "code",
   "execution_count": 26,
   "metadata": {},
   "outputs": [],
   "source": [
    "\n",
    "data=data.drop([\"pay_schedule\"],axis=1)"
   ]
  },
  {
   "cell_type": "code",
   "execution_count": 27,
   "metadata": {},
   "outputs": [],
   "source": [
    "\n",
    "data=pd.concat([data,dummy],axis=1)"
   ]
  },
  {
   "cell_type": "code",
   "execution_count": 29,
   "metadata": {},
   "outputs": [
    {
     "name": "stdout",
     "output_type": "stream",
     "text": [
      "(17908, 23)\n",
      "   entry_id  age  home_owner  income  months_employed  years_employed  \\\n",
      "0   7629673   40           1    3135                0               3   \n",
      "1   3560428   61           0    3180                0               6   \n",
      "2   6934997   23           0    1540                6               0   \n",
      "3   5682812   40           0    5230                0               6   \n",
      "4   5335819   33           0    3590                0               5   \n",
      "\n",
      "   current_address_year  personal_account_m  personal_account_y  has_debt  \\\n",
      "0                     3                   6                   2         1   \n",
      "1                     3                   2                   7         1   \n",
      "2                     0                   7                   1         1   \n",
      "3                     1                   2                   7         1   \n",
      "4                     2                   2                   8         1   \n",
      "\n",
      "   ...  risk_score_3  risk_score_4  risk_score_5  ext_quality_score  \\\n",
      "0  ...      0.903517      0.487712      0.515977           0.580918   \n",
      "1  ...      0.881027      0.713423      0.826402           0.730720   \n",
      "2  ...      0.766554      0.595018      0.762284           0.531712   \n",
      "3  ...      0.960832      0.767828      0.778831           0.792552   \n",
      "4  ...      0.857560      0.613487      0.665523           0.744634   \n",
      "\n",
      "   ext_quality_score_2  inquiries_last_month  e_signed  monthly  semi-monthly  \\\n",
      "0             0.380918                    10         1        0             0   \n",
      "1             0.630720                     9         0        0             0   \n",
      "2             0.531712                     7         0        0             0   \n",
      "3             0.592552                     8         1        0             0   \n",
      "4             0.744634                    12         0        0             1   \n",
      "\n",
      "   weekly  \n",
      "0       0  \n",
      "1       1  \n",
      "2       1  \n",
      "3       0  \n",
      "4       0  \n",
      "\n",
      "[5 rows x 23 columns]\n"
     ]
    }
   ],
   "source": [
    "print(data.shape)\n",
    "print(data.head(5))"
   ]
  },
  {
   "cell_type": "code",
   "execution_count": 30,
   "metadata": {},
   "outputs": [
    {
     "data": {
      "text/plain": [
       "Index(['entry_id', 'age', 'home_owner', 'income', 'months_employed',\n",
       "       'years_employed', 'current_address_year', 'personal_account_m',\n",
       "       'personal_account_y', 'has_debt', 'amount_requested', 'risk_score',\n",
       "       'risk_score_2', 'risk_score_3', 'risk_score_4', 'risk_score_5',\n",
       "       'ext_quality_score', 'ext_quality_score_2', 'inquiries_last_month',\n",
       "       'e_signed', 'monthly', 'semi-monthly', 'weekly'],\n",
       "      dtype='object')"
      ]
     },
     "execution_count": 30,
     "metadata": {},
     "output_type": "execute_result"
    }
   ],
   "source": [
    "data.columns"
   ]
  },
  {
   "cell_type": "code",
   "execution_count": 31,
   "metadata": {},
   "outputs": [],
   "source": [
    "# Seperating the data into dependent and independent varioable. Response contains the esigned column which needs to be computed\n",
    "#from the dataset\n",
    "response = data[\"e_signed\"]\n",
    "dataset = data.drop(columns = [\"e_signed\", \"entry_id\"])"
   ]
  },
  {
   "cell_type": "code",
   "execution_count": 32,
   "metadata": {},
   "outputs": [],
   "source": [
    "#Transforming the data using StandardScaler\n",
    "from sklearn.preprocessing import StandardScaler\n",
    "sc_X= StandardScaler()"
   ]
  },
  {
   "cell_type": "code",
   "execution_count": 33,
   "metadata": {},
   "outputs": [],
   "source": [
    "# Splitting into Train and Test Set\n",
    "from sklearn.model_selection import train_test_split\n",
    "X_train, X_test, y_train, y_test = train_test_split(dataset,response,test_size = 0.2,random_state = 0)"
   ]
  },
  {
   "cell_type": "code",
   "execution_count": 34,
   "metadata": {},
   "outputs": [],
   "source": [
    "#Fitting and transforming our data\n",
    "X_train=sc_X.fit_transform(X_train)\n",
    "X_test=sc_X.transform(X_test)"
   ]
  },
  {
   "cell_type": "code",
   "execution_count": 37,
   "metadata": {},
   "outputs": [
    {
     "data": {
      "text/plain": [
       "(14326, 21)"
      ]
     },
     "execution_count": 37,
     "metadata": {},
     "output_type": "execute_result"
    }
   ],
   "source": [
    "X_train.shape"
   ]
  },
  {
   "cell_type": "markdown",
   "metadata": {},
   "source": [
    "#### Building ANN Using Keras\n",
    "\n",
    "<img src=\"../images/keras.png\" width=\"500\"/>\n",
    "</div>"
   ]
  },
  {
   "cell_type": "markdown",
   "metadata": {},
   "source": [
    "\n",
    "<div>\n",
    "<img src=\"../images/ann.png\" width=\"500\"/>\n",
    "</div>"
   ]
  },
  {
   "cell_type": "code",
   "execution_count": 39,
   "metadata": {},
   "outputs": [
    {
     "name": "stderr",
     "output_type": "stream",
     "text": [
      "Using TensorFlow backend.\n"
     ]
    }
   ],
   "source": [
    "# Importing the Keras libraries and packages\n",
    "import keras\n",
    "from keras.models import Sequential\n",
    "from keras.layers import Dense\n",
    "\n",
    "classifier = Sequential()"
   ]
  },
  {
   "cell_type": "code",
   "execution_count": 40,
   "metadata": {},
   "outputs": [],
   "source": [
    "#Adding the layers in ANN\n",
    "\n",
    "classifier.add(Dense(units = 10, kernel_initializer = 'uniform', activation = 'relu', input_dim = 21))\n",
    "classifier.add(Dense(units = 10, kernel_initializer = 'uniform', activation = 'relu'))\n",
    "classifier.add(Dense(units = 1, kernel_initializer = 'uniform', activation = 'sigmoid'))\n",
    "classifier.compile(optimizer = 'adam', loss = 'binary_crossentropy', metrics = ['accuracy'])"
   ]
  },
  {
   "cell_type": "code",
   "execution_count": 41,
   "metadata": {},
   "outputs": [
    {
     "name": "stdout",
     "output_type": "stream",
     "text": [
      "Epoch 1/100\n",
      "14326/14326 [==============================] - 3s 227us/step - loss: 0.6741 - accuracy: 0.5721\n",
      "Epoch 2/100\n",
      "14326/14326 [==============================] - 2s 159us/step - loss: 0.6615 - accuracy: 0.6021\n",
      "Epoch 3/100\n",
      "14326/14326 [==============================] - 2s 146us/step - loss: 0.6544 - accuracy: 0.6064\n",
      "Epoch 4/100\n",
      "14326/14326 [==============================] - 2s 140us/step - loss: 0.6507 - accuracy: 0.6095\n",
      "Epoch 5/100\n",
      "14326/14326 [==============================] - 2s 141us/step - loss: 0.6478 - accuracy: 0.6150\n",
      "Epoch 6/100\n",
      "14326/14326 [==============================] - 2s 143us/step - loss: 0.6460 - accuracy: 0.6183\n",
      "Epoch 7/100\n",
      "14326/14326 [==============================] - 2s 164us/step - loss: 0.6441 - accuracy: 0.6235\n",
      "Epoch 8/100\n",
      "14326/14326 [==============================] - 3s 186us/step - loss: 0.6431 - accuracy: 0.6236\n",
      "Epoch 9/100\n",
      "14326/14326 [==============================] - 3s 188us/step - loss: 0.6424 - accuracy: 0.6259\n",
      "Epoch 10/100\n",
      "14326/14326 [==============================] - 3s 181us/step - loss: 0.6413 - accuracy: 0.6300\n",
      "Epoch 11/100\n",
      "14326/14326 [==============================] - 2s 156us/step - loss: 0.6409 - accuracy: 0.6263\n",
      "Epoch 12/100\n",
      "14326/14326 [==============================] - 2s 159us/step - loss: 0.6405 - accuracy: 0.6281\n",
      "Epoch 13/100\n",
      "14326/14326 [==============================] - 2s 159us/step - loss: 0.6398 - accuracy: 0.6293\n",
      "Epoch 14/100\n",
      "14326/14326 [==============================] - 2s 157us/step - loss: 0.6387 - accuracy: 0.6312\n",
      "Epoch 15/100\n",
      "14326/14326 [==============================] - 2s 167us/step - loss: 0.6383 - accuracy: 0.6303\n",
      "Epoch 16/100\n",
      "14326/14326 [==============================] - 3s 177us/step - loss: 0.6384 - accuracy: 0.6325\n",
      "Epoch 17/100\n",
      "14326/14326 [==============================] - 2s 171us/step - loss: 0.6373 - accuracy: 0.6304\n",
      "Epoch 18/100\n",
      "14326/14326 [==============================] - 2s 151us/step - loss: 0.6376 - accuracy: 0.6319\n",
      "Epoch 19/100\n",
      "14326/14326 [==============================] - 2s 158us/step - loss: 0.6369 - accuracy: 0.6318\n",
      "Epoch 20/100\n",
      "14326/14326 [==============================] - 2s 161us/step - loss: 0.6368 - accuracy: 0.6307\n",
      "Epoch 21/100\n",
      "14326/14326 [==============================] - 2s 169us/step - loss: 0.6368 - accuracy: 0.6314\n",
      "Epoch 22/100\n",
      "14326/14326 [==============================] - 2s 164us/step - loss: 0.6359 - accuracy: 0.6318\n",
      "Epoch 23/100\n",
      "14326/14326 [==============================] - 2s 156us/step - loss: 0.6361 - accuracy: 0.6297\n",
      "Epoch 24/100\n",
      "14326/14326 [==============================] - 2s 161us/step - loss: 0.6357 - accuracy: 0.6347\n",
      "Epoch 25/100\n",
      "14326/14326 [==============================] - 2s 160us/step - loss: 0.6357 - accuracy: 0.6335\n",
      "Epoch 26/100\n",
      "14326/14326 [==============================] - 2s 167us/step - loss: 0.6353 - accuracy: 0.6324\n",
      "Epoch 27/100\n",
      "14326/14326 [==============================] - 2s 171us/step - loss: 0.6355 - accuracy: 0.6326\n",
      "Epoch 28/100\n",
      "14326/14326 [==============================] - 2s 154us/step - loss: 0.6352 - accuracy: 0.6331\n",
      "Epoch 29/100\n",
      "14326/14326 [==============================] - 2s 150us/step - loss: 0.6346 - accuracy: 0.6326\n",
      "Epoch 30/100\n",
      "14326/14326 [==============================] - 2s 151us/step - loss: 0.6340 - accuracy: 0.6363\n",
      "Epoch 31/100\n",
      "14326/14326 [==============================] - 2s 169us/step - loss: 0.6340 - accuracy: 0.6341\n",
      "Epoch 32/100\n",
      "14326/14326 [==============================] - 2s 161us/step - loss: 0.6335 - accuracy: 0.6344\n",
      "Epoch 33/100\n",
      "14326/14326 [==============================] - 2s 161us/step - loss: 0.6332 - accuracy: 0.6328\n",
      "Epoch 34/100\n",
      "14326/14326 [==============================] - 2s 161us/step - loss: 0.6329 - accuracy: 0.6345\n",
      "Epoch 35/100\n",
      "14326/14326 [==============================] - 2s 168us/step - loss: 0.6329 - accuracy: 0.6372\n",
      "Epoch 36/100\n",
      "14326/14326 [==============================] - 2s 168us/step - loss: 0.6324 - accuracy: 0.6367\n",
      "Epoch 37/100\n",
      "14326/14326 [==============================] - 2s 159us/step - loss: 0.6320 - accuracy: 0.6367\n",
      "Epoch 38/100\n",
      "14326/14326 [==============================] - 2s 157us/step - loss: 0.6316 - accuracy: 0.63400s - loss: 0.6305 - accu\n",
      "Epoch 39/100\n",
      "14326/14326 [==============================] - 2s 153us/step - loss: 0.6310 - accuracy: 0.6380\n",
      "Epoch 40/100\n",
      "14326/14326 [==============================] - 2s 153us/step - loss: 0.6307 - accuracy: 0.6377\n",
      "Epoch 41/100\n",
      "14326/14326 [==============================] - 2s 163us/step - loss: 0.6305 - accuracy: 0.6387\n",
      "Epoch 42/100\n",
      "14326/14326 [==============================] - 2s 153us/step - loss: 0.6303 - accuracy: 0.6382\n",
      "Epoch 43/100\n",
      "14326/14326 [==============================] - 2s 154us/step - loss: 0.6303 - accuracy: 0.6378\n",
      "Epoch 44/100\n",
      "14326/14326 [==============================] - 2s 155us/step - loss: 0.6297 - accuracy: 0.6377\n",
      "Epoch 45/100\n",
      "14326/14326 [==============================] - 2s 171us/step - loss: 0.6296 - accuracy: 0.6388\n",
      "Epoch 46/100\n",
      "14326/14326 [==============================] - 2s 173us/step - loss: 0.6293 - accuracy: 0.63810s - loss: 0.6312 \n",
      "Epoch 47/100\n",
      "14326/14326 [==============================] - 3s 175us/step - loss: 0.6285 - accuracy: 0.6379\n",
      "Epoch 48/100\n",
      "14326/14326 [==============================] - 2s 164us/step - loss: 0.6287 - accuracy: 0.6407\n",
      "Epoch 49/100\n",
      "14326/14326 [==============================] - 2s 174us/step - loss: 0.6280 - accuracy: 0.6377\n",
      "Epoch 50/100\n",
      "14326/14326 [==============================] - 2s 166us/step - loss: 0.6277 - accuracy: 0.6350\n",
      "Epoch 51/100\n",
      "14326/14326 [==============================] - 2s 161us/step - loss: 0.6272 - accuracy: 0.6383\n",
      "Epoch 52/100\n",
      "14326/14326 [==============================] - 2s 168us/step - loss: 0.6269 - accuracy: 0.6383\n",
      "Epoch 53/100\n",
      "14326/14326 [==============================] - 3s 178us/step - loss: 0.6265 - accuracy: 0.6400\n",
      "Epoch 54/100\n",
      "14326/14326 [==============================] - 3s 177us/step - loss: 0.6260 - accuracy: 0.63760s - loss: 0.6255 - accuracy: \n",
      "Epoch 55/100\n",
      "14326/14326 [==============================] - 2s 154us/step - loss: 0.6258 - accuracy: 0.6419\n",
      "Epoch 56/100\n",
      "14326/14326 [==============================] - 2s 154us/step - loss: 0.6262 - accuracy: 0.6379\n",
      "Epoch 57/100\n",
      "14326/14326 [==============================] - 2s 155us/step - loss: 0.6255 - accuracy: 0.6414\n",
      "Epoch 58/100\n",
      "14326/14326 [==============================] - 2s 151us/step - loss: 0.6260 - accuracy: 0.6405\n",
      "Epoch 59/100\n",
      "14326/14326 [==============================] - 2s 169us/step - loss: 0.6250 - accuracy: 0.6403\n",
      "Epoch 60/100\n",
      "14326/14326 [==============================] - 2s 158us/step - loss: 0.6250 - accuracy: 0.6431\n",
      "Epoch 61/100\n",
      "14326/14326 [==============================] - 2s 156us/step - loss: 0.6253 - accuracy: 0.6423\n",
      "Epoch 62/100\n",
      "14326/14326 [==============================] - 2s 158us/step - loss: 0.6248 - accuracy: 0.6383\n",
      "Epoch 63/100\n",
      "14326/14326 [==============================] - 2s 174us/step - loss: 0.6253 - accuracy: 0.6379\n",
      "Epoch 64/100\n",
      "14326/14326 [==============================] - 3s 176us/step - loss: 0.6248 - accuracy: 0.6407\n",
      "Epoch 65/100\n",
      "14326/14326 [==============================] - 3s 175us/step - loss: 0.6242 - accuracy: 0.6388\n",
      "Epoch 66/100\n",
      "14326/14326 [==============================] - 2s 168us/step - loss: 0.6241 - accuracy: 0.6393\n",
      "Epoch 67/100\n",
      "14326/14326 [==============================] - 2s 163us/step - loss: 0.6243 - accuracy: 0.6404\n",
      "Epoch 68/100\n",
      "14326/14326 [==============================] - 2s 159us/step - loss: 0.6237 - accuracy: 0.6426\n",
      "Epoch 69/100\n",
      "14326/14326 [==============================] - 2s 170us/step - loss: 0.6239 - accuracy: 0.6402\n",
      "Epoch 70/100\n",
      "14326/14326 [==============================] - 3s 180us/step - loss: 0.6239 - accuracy: 0.64170s\n",
      "Epoch 71/100\n",
      "14326/14326 [==============================] - 2s 166us/step - loss: 0.6230 - accuracy: 0.6418\n",
      "Epoch 72/100\n",
      "14326/14326 [==============================] - 3s 184us/step - loss: 0.6230 - accuracy: 0.6423\n",
      "Epoch 73/100\n",
      "14326/14326 [==============================] - 2s 173us/step - loss: 0.6230 - accuracy: 0.6441\n",
      "Epoch 74/100\n",
      "14326/14326 [==============================] - 2s 155us/step - loss: 0.6226 - accuracy: 0.6428\n",
      "Epoch 75/100\n",
      "14326/14326 [==============================] - 2s 169us/step - loss: 0.6227 - accuracy: 0.6427\n",
      "Epoch 76/100\n",
      "14326/14326 [==============================] - 2s 172us/step - loss: 0.6224 - accuracy: 0.6420\n",
      "Epoch 77/100\n",
      "14326/14326 [==============================] - 2s 156us/step - loss: 0.6220 - accuracy: 0.6432\n",
      "Epoch 78/100\n",
      "14326/14326 [==============================] - 2s 152us/step - loss: 0.6222 - accuracy: 0.6432\n",
      "Epoch 79/100\n",
      "14326/14326 [==============================] - 2s 162us/step - loss: 0.6219 - accuracy: 0.6409\n",
      "Epoch 80/100\n",
      "14326/14326 [==============================] - 2s 152us/step - loss: 0.6221 - accuracy: 0.6426\n",
      "Epoch 81/100\n",
      "14326/14326 [==============================] - 2s 158us/step - loss: 0.6217 - accuracy: 0.6444\n",
      "Epoch 82/100\n",
      "14326/14326 [==============================] - 2s 153us/step - loss: 0.6215 - accuracy: 0.6416\n",
      "Epoch 83/100\n",
      "14326/14326 [==============================] - 2s 158us/step - loss: 0.6210 - accuracy: 0.6423\n",
      "Epoch 84/100\n",
      "14326/14326 [==============================] - 3s 201us/step - loss: 0.6214 - accuracy: 0.6416\n",
      "Epoch 85/100\n",
      "14326/14326 [==============================] - 5s 329us/step - loss: 0.6210 - accuracy: 0.6434\n",
      "Epoch 86/100\n",
      "14326/14326 [==============================] - 5s 345us/step - loss: 0.6209 - accuracy: 0.6439\n",
      "Epoch 87/100\n",
      "14326/14326 [==============================] - 5s 345us/step - loss: 0.6208 - accuracy: 0.6416\n",
      "Epoch 88/100\n",
      "14326/14326 [==============================] - 5s 336us/step - loss: 0.6208 - accuracy: 0.6404\n",
      "Epoch 89/100\n",
      "14326/14326 [==============================] - 5s 334us/step - loss: 0.6201 - accuracy: 0.6447\n",
      "Epoch 90/100\n",
      "14326/14326 [==============================] - 5s 343us/step - loss: 0.6205 - accuracy: 0.6445\n",
      "Epoch 91/100\n",
      "14326/14326 [==============================] - 5s 352us/step - loss: 0.6204 - accuracy: 0.6432\n",
      "Epoch 92/100\n",
      "14326/14326 [==============================] - 5s 352us/step - loss: 0.6203 - accuracy: 0.6419\n",
      "Epoch 93/100\n",
      "14326/14326 [==============================] - 5s 342us/step - loss: 0.6204 - accuracy: 0.6451\n",
      "Epoch 94/100\n",
      "14326/14326 [==============================] - 5s 336us/step - loss: 0.6196 - accuracy: 0.6463\n",
      "Epoch 95/100\n",
      "14326/14326 [==============================] - 5s 336us/step - loss: 0.6198 - accuracy: 0.6458\n",
      "Epoch 96/100\n",
      "14326/14326 [==============================] - 5s 330us/step - loss: 0.6200 - accuracy: 0.6445\n",
      "Epoch 97/100\n",
      "14326/14326 [==============================] - 5s 333us/step - loss: 0.6197 - accuracy: 0.6423\n",
      "Epoch 98/100\n",
      "14326/14326 [==============================] - 5s 339us/step - loss: 0.6193 - accuracy: 0.6432\n",
      "Epoch 99/100\n",
      "14326/14326 [==============================] - 5s 337us/step - loss: 0.6196 - accuracy: 0.6446\n",
      "Epoch 100/100\n",
      "14326/14326 [==============================] - 5s 333us/step - loss: 0.6194 - accuracy: 0.6440\n"
     ]
    },
    {
     "data": {
      "text/plain": [
       "<keras.callbacks.callbacks.History at 0x1a42fded30>"
      ]
     },
     "execution_count": 41,
     "metadata": {},
     "output_type": "execute_result"
    }
   ],
   "source": [
    "# Fitting the ANN to the Training set\n",
    "classifier.fit(X_train, y_train, batch_size = 10, epochs = 100)"
   ]
  },
  {
   "cell_type": "code",
   "execution_count": 84,
   "metadata": {},
   "outputs": [],
   "source": [
    "#Predict functioon the test data using the model\n",
    "pred=classifier.predict(X_test)"
   ]
  },
  {
   "cell_type": "code",
   "execution_count": 86,
   "metadata": {},
   "outputs": [
    {
     "data": {
      "text/plain": [
       "array([[False],\n",
       "       [ True],\n",
       "       [ True],\n",
       "       ...,\n",
       "       [ True],\n",
       "       [ True],\n",
       "       [ True]])"
      ]
     },
     "execution_count": 86,
     "metadata": {},
     "output_type": "execute_result"
    }
   ],
   "source": [
    "y_pred = (pred > 0.5)\n",
    "y_pred"
   ]
  },
  {
   "cell_type": "code",
   "execution_count": 87,
   "metadata": {},
   "outputs": [
    {
     "data": {
      "text/plain": [
       "0.6049692908989391"
      ]
     },
     "execution_count": 87,
     "metadata": {},
     "output_type": "execute_result"
    }
   ],
   "source": [
    "accuracy_score(y_pred,y_test)"
   ]
  },
  {
   "cell_type": "markdown",
   "metadata": {},
   "source": [
    "## Other Machine Learning Model"
   ]
  },
  {
   "cell_type": "markdown",
   "metadata": {},
   "source": [
    "#### Feature Engineering"
   ]
  },
  {
   "cell_type": "markdown",
   "metadata": {},
   "source": [
    "\n",
    "    \n",
    "<div>\n",
    "    <br>\n",
    "<img src=\"../images/ml.jpg\" width=\"500\"/>\n",
    "</div>"
   ]
  },
  {
   "cell_type": "markdown",
   "metadata": {},
   "source": [
    "##### AGE\n",
    "\n",
    "We will group our age data as follows:\n",
    "<div>\n",
    "    <br>\n",
    "<img src=\"../images/age_group.png\" width=\"500\"/>\n",
    "</div>"
   ]
  },
  {
   "cell_type": "code",
   "execution_count": 45,
   "metadata": {},
   "outputs": [],
   "source": [
    "#Initializing the Empty List\n",
    "AGE=[]\n",
    "\n",
    "for i in range(len(df)):\n",
    "    if(df[\"age\"][i]<=45):\n",
    "        AGE.append(\"ADULT\")\n",
    "        \n",
    "    else:\n",
    "        AGE.append(\"SENIOR\")"
   ]
  },
  {
   "cell_type": "markdown",
   "metadata": {},
   "source": [
    "#### Months Employed and Personal Account\n",
    "\n",
    "We will calculate months employed as follows:\n",
    "<br>\n",
    "<p style=\"text-indent:5em\">month employed=month employed+ years employed*12</p>\n",
    "    <p style=\"text-indent:5em\">account_m=account_m+account_y*12</p>\n"
   ]
  },
  {
   "cell_type": "code",
   "execution_count": 52,
   "metadata": {},
   "outputs": [],
   "source": [
    "EMPLOYED=[]\n",
    "for i in range(len(df)):\n",
    "    x=df[\"months_employed\"][i]+df[\"years_employed\"][i]*12\n",
    "    EMPLOYED.append(x)"
   ]
  },
  {
   "cell_type": "code",
   "execution_count": 53,
   "metadata": {},
   "outputs": [],
   "source": [
    "PA=[]\n",
    "for i in range(len(df)):\n",
    "    x=df[\"personal_account_m\"][i]+df[\"personal_account_y\"][i]*12\n",
    "    PA.append(x)"
   ]
  },
  {
   "cell_type": "code",
   "execution_count": 54,
   "metadata": {},
   "outputs": [],
   "source": [
    "avg_risk=[]\n",
    "for i in range(len(df)):\n",
    "    x=(df[\"risk_score_2\"][i]+df[\"risk_score_3\"][i]+df[\"risk_score_4\"][i]+df[\"risk_score_5\"][i])/4\n",
    "    avg_risk.append(x)"
   ]
  },
  {
   "cell_type": "code",
   "execution_count": 55,
   "metadata": {},
   "outputs": [],
   "source": [
    "ext_quality=[]\n",
    "for i in range(len(df)):\n",
    "    x=(df[\"ext_quality_score_2\"][i]+df[\"ext_quality_score\"][i])/2\n",
    "    ext_quality.append(x)"
   ]
  },
  {
   "cell_type": "markdown",
   "metadata": {},
   "source": [
    "#### Merging all the features into Single Dataframe\n",
    "\n",
    "<p style=\"text-indent:5em\">\n"
   ]
  },
  {
   "cell_type": "code",
   "execution_count": 56,
   "metadata": {},
   "outputs": [],
   "source": [
    "#Converting all lists into DataFrame\n",
    "AGE=pd.DataFrame(AGE)\n",
    "EMPLOYED=pd.DataFrame(EMPLOYED)\n",
    "PA=pd.DataFrame(PA)\n",
    "avg_risk=pd.DataFrame(avg_risk)\n",
    "ext_quality=pd.DataFrame(ext_quality)\n",
    "\n",
    "#Concatng all the features\n",
    "featured=pd.concat([AGE,EMPLOYED,PA,avg_risk,ext_quality],axis=1)"
   ]
  },
  {
   "cell_type": "code",
   "execution_count": 57,
   "metadata": {},
   "outputs": [],
   "source": [
    "featured.columns=[\"AGE\",\"EMPLOYED\",\"PA\",\"RISK\",\"QUALITY\"]"
   ]
  },
  {
   "cell_type": "code",
   "execution_count": 58,
   "metadata": {},
   "outputs": [
    {
     "data": {
      "text/html": [
       "<div>\n",
       "<style scoped>\n",
       "    .dataframe tbody tr th:only-of-type {\n",
       "        vertical-align: middle;\n",
       "    }\n",
       "\n",
       "    .dataframe tbody tr th {\n",
       "        vertical-align: top;\n",
       "    }\n",
       "\n",
       "    .dataframe thead th {\n",
       "        text-align: right;\n",
       "    }\n",
       "</style>\n",
       "<table border=\"1\" class=\"dataframe\">\n",
       "  <thead>\n",
       "    <tr style=\"text-align: right;\">\n",
       "      <th></th>\n",
       "      <th>AGE</th>\n",
       "      <th>EMPLOYED</th>\n",
       "      <th>PA</th>\n",
       "      <th>RISK</th>\n",
       "      <th>QUALITY</th>\n",
       "    </tr>\n",
       "  </thead>\n",
       "  <tbody>\n",
       "    <tr>\n",
       "      <th>0</th>\n",
       "      <td>ADULT</td>\n",
       "      <td>36</td>\n",
       "      <td>30</td>\n",
       "      <td>0.661151</td>\n",
       "      <td>0.480918</td>\n",
       "    </tr>\n",
       "    <tr>\n",
       "      <th>1</th>\n",
       "      <td>SENIOR</td>\n",
       "      <td>72</td>\n",
       "      <td>86</td>\n",
       "      <td>0.789841</td>\n",
       "      <td>0.680720</td>\n",
       "    </tr>\n",
       "    <tr>\n",
       "      <th>2</th>\n",
       "      <td>ADULT</td>\n",
       "      <td>6</td>\n",
       "      <td>19</td>\n",
       "      <td>0.691712</td>\n",
       "      <td>0.531712</td>\n",
       "    </tr>\n",
       "    <tr>\n",
       "      <th>3</th>\n",
       "      <td>ADULT</td>\n",
       "      <td>72</td>\n",
       "      <td>86</td>\n",
       "      <td>0.793179</td>\n",
       "      <td>0.692552</td>\n",
       "    </tr>\n",
       "    <tr>\n",
       "      <th>4</th>\n",
       "      <td>ADULT</td>\n",
       "      <td>60</td>\n",
       "      <td>98</td>\n",
       "      <td>0.688483</td>\n",
       "      <td>0.744634</td>\n",
       "    </tr>\n",
       "  </tbody>\n",
       "</table>\n",
       "</div>"
      ],
      "text/plain": [
       "      AGE  EMPLOYED  PA      RISK   QUALITY\n",
       "0   ADULT        36  30  0.661151  0.480918\n",
       "1  SENIOR        72  86  0.789841  0.680720\n",
       "2   ADULT         6  19  0.691712  0.531712\n",
       "3   ADULT        72  86  0.793179  0.692552\n",
       "4   ADULT        60  98  0.688483  0.744634"
      ]
     },
     "execution_count": 58,
     "metadata": {},
     "output_type": "execute_result"
    }
   ],
   "source": [
    "featured.head()"
   ]
  },
  {
   "cell_type": "code",
   "execution_count": 59,
   "metadata": {},
   "outputs": [
    {
     "data": {
      "text/html": [
       "<div>\n",
       "<style scoped>\n",
       "    .dataframe tbody tr th:only-of-type {\n",
       "        vertical-align: middle;\n",
       "    }\n",
       "\n",
       "    .dataframe tbody tr th {\n",
       "        vertical-align: top;\n",
       "    }\n",
       "\n",
       "    .dataframe thead th {\n",
       "        text-align: right;\n",
       "    }\n",
       "</style>\n",
       "<table border=\"1\" class=\"dataframe\">\n",
       "  <thead>\n",
       "    <tr style=\"text-align: right;\">\n",
       "      <th></th>\n",
       "      <th>ADULT</th>\n",
       "      <th>SENIOR</th>\n",
       "    </tr>\n",
       "  </thead>\n",
       "  <tbody>\n",
       "    <tr>\n",
       "      <th>0</th>\n",
       "      <td>1</td>\n",
       "      <td>0</td>\n",
       "    </tr>\n",
       "    <tr>\n",
       "      <th>1</th>\n",
       "      <td>0</td>\n",
       "      <td>1</td>\n",
       "    </tr>\n",
       "    <tr>\n",
       "      <th>2</th>\n",
       "      <td>1</td>\n",
       "      <td>0</td>\n",
       "    </tr>\n",
       "    <tr>\n",
       "      <th>3</th>\n",
       "      <td>1</td>\n",
       "      <td>0</td>\n",
       "    </tr>\n",
       "    <tr>\n",
       "      <th>4</th>\n",
       "      <td>1</td>\n",
       "      <td>0</td>\n",
       "    </tr>\n",
       "  </tbody>\n",
       "</table>\n",
       "</div>"
      ],
      "text/plain": [
       "   ADULT  SENIOR\n",
       "0      1       0\n",
       "1      0       1\n",
       "2      1       0\n",
       "3      1       0\n",
       "4      1       0"
      ]
     },
     "execution_count": 59,
     "metadata": {},
     "output_type": "execute_result"
    }
   ],
   "source": [
    "#Creating Dummy Variable\n",
    "dummy1=pd.get_dummies(featured[\"AGE\"])\n",
    "dummy1.head()"
   ]
  },
  {
   "cell_type": "code",
   "execution_count": 60,
   "metadata": {},
   "outputs": [
    {
     "data": {
      "text/html": [
       "<div>\n",
       "<style scoped>\n",
       "    .dataframe tbody tr th:only-of-type {\n",
       "        vertical-align: middle;\n",
       "    }\n",
       "\n",
       "    .dataframe tbody tr th {\n",
       "        vertical-align: top;\n",
       "    }\n",
       "\n",
       "    .dataframe thead th {\n",
       "        text-align: right;\n",
       "    }\n",
       "</style>\n",
       "<table border=\"1\" class=\"dataframe\">\n",
       "  <thead>\n",
       "    <tr style=\"text-align: right;\">\n",
       "      <th></th>\n",
       "      <th>EMPLOYED</th>\n",
       "      <th>PA</th>\n",
       "      <th>RISK</th>\n",
       "      <th>QUALITY</th>\n",
       "      <th>ADULT</th>\n",
       "      <th>SENIOR</th>\n",
       "    </tr>\n",
       "  </thead>\n",
       "  <tbody>\n",
       "    <tr>\n",
       "      <th>0</th>\n",
       "      <td>36</td>\n",
       "      <td>30</td>\n",
       "      <td>0.661151</td>\n",
       "      <td>0.480918</td>\n",
       "      <td>1</td>\n",
       "      <td>0</td>\n",
       "    </tr>\n",
       "    <tr>\n",
       "      <th>1</th>\n",
       "      <td>72</td>\n",
       "      <td>86</td>\n",
       "      <td>0.789841</td>\n",
       "      <td>0.680720</td>\n",
       "      <td>0</td>\n",
       "      <td>1</td>\n",
       "    </tr>\n",
       "    <tr>\n",
       "      <th>2</th>\n",
       "      <td>6</td>\n",
       "      <td>19</td>\n",
       "      <td>0.691712</td>\n",
       "      <td>0.531712</td>\n",
       "      <td>1</td>\n",
       "      <td>0</td>\n",
       "    </tr>\n",
       "    <tr>\n",
       "      <th>3</th>\n",
       "      <td>72</td>\n",
       "      <td>86</td>\n",
       "      <td>0.793179</td>\n",
       "      <td>0.692552</td>\n",
       "      <td>1</td>\n",
       "      <td>0</td>\n",
       "    </tr>\n",
       "    <tr>\n",
       "      <th>4</th>\n",
       "      <td>60</td>\n",
       "      <td>98</td>\n",
       "      <td>0.688483</td>\n",
       "      <td>0.744634</td>\n",
       "      <td>1</td>\n",
       "      <td>0</td>\n",
       "    </tr>\n",
       "  </tbody>\n",
       "</table>\n",
       "</div>"
      ],
      "text/plain": [
       "   EMPLOYED  PA      RISK   QUALITY  ADULT  SENIOR\n",
       "0        36  30  0.661151  0.480918      1       0\n",
       "1        72  86  0.789841  0.680720      0       1\n",
       "2         6  19  0.691712  0.531712      1       0\n",
       "3        72  86  0.793179  0.692552      1       0\n",
       "4        60  98  0.688483  0.744634      1       0"
      ]
     },
     "execution_count": 60,
     "metadata": {},
     "output_type": "execute_result"
    }
   ],
   "source": [
    "#Dropping the AGE Variable since dummy variable is created\n",
    "featured=featured.drop([\"AGE\"],axis=1)\n",
    "\n",
    "#Concating the data and dummy variable\n",
    "featured=pd.concat([featured,dummy1],axis=1)\n",
    "featured.head()"
   ]
  },
  {
   "cell_type": "markdown",
   "metadata": {},
   "source": [
    "#### Classifying the Data into dependent and independent Variable"
   ]
  },
  {
   "cell_type": "code",
   "execution_count": 61,
   "metadata": {},
   "outputs": [],
   "source": [
    "#Dependent Variable\n",
    "dep=\"e_signed\"\n",
    "\n",
    "#Selelcting all the column as independent variable\n",
    "ind=df.columns.tolist()"
   ]
  },
  {
   "cell_type": "code",
   "execution_count": 62,
   "metadata": {},
   "outputs": [
    {
     "data": {
      "text/plain": [
       "['entry_id',\n",
       " 'age',\n",
       " 'pay_schedule',\n",
       " 'home_owner',\n",
       " 'income',\n",
       " 'months_employed',\n",
       " 'years_employed',\n",
       " 'current_address_year',\n",
       " 'personal_account_m',\n",
       " 'personal_account_y',\n",
       " 'has_debt',\n",
       " 'amount_requested',\n",
       " 'risk_score',\n",
       " 'risk_score_2',\n",
       " 'risk_score_3',\n",
       " 'risk_score_4',\n",
       " 'risk_score_5',\n",
       " 'ext_quality_score',\n",
       " 'ext_quality_score_2',\n",
       " 'inquiries_last_month',\n",
       " 'e_signed']"
      ]
     },
     "execution_count": 62,
     "metadata": {},
     "output_type": "execute_result"
    }
   ],
   "source": [
    "ind"
   ]
  },
  {
   "cell_type": "code",
   "execution_count": 63,
   "metadata": {},
   "outputs": [],
   "source": [
    "#Removing the dependent variable from independent\n",
    "ind.remove(dep)\n",
    "ind.remove(\"entry_id\")"
   ]
  },
  {
   "cell_type": "code",
   "execution_count": 64,
   "metadata": {},
   "outputs": [],
   "source": [
    "#Selecting the Data\n",
    "X=df[ind]\n",
    "Y=df[dep]"
   ]
  },
  {
   "cell_type": "code",
   "execution_count": 65,
   "metadata": {},
   "outputs": [
    {
     "data": {
      "text/html": [
       "<div>\n",
       "<style scoped>\n",
       "    .dataframe tbody tr th:only-of-type {\n",
       "        vertical-align: middle;\n",
       "    }\n",
       "\n",
       "    .dataframe tbody tr th {\n",
       "        vertical-align: top;\n",
       "    }\n",
       "\n",
       "    .dataframe thead th {\n",
       "        text-align: right;\n",
       "    }\n",
       "</style>\n",
       "<table border=\"1\" class=\"dataframe\">\n",
       "  <thead>\n",
       "    <tr style=\"text-align: right;\">\n",
       "      <th></th>\n",
       "      <th>age</th>\n",
       "      <th>pay_schedule</th>\n",
       "      <th>home_owner</th>\n",
       "      <th>income</th>\n",
       "      <th>months_employed</th>\n",
       "      <th>years_employed</th>\n",
       "      <th>current_address_year</th>\n",
       "      <th>personal_account_m</th>\n",
       "      <th>personal_account_y</th>\n",
       "      <th>has_debt</th>\n",
       "      <th>...</th>\n",
       "      <th>risk_score_5</th>\n",
       "      <th>ext_quality_score</th>\n",
       "      <th>ext_quality_score_2</th>\n",
       "      <th>inquiries_last_month</th>\n",
       "      <th>EMPLOYED</th>\n",
       "      <th>PA</th>\n",
       "      <th>RISK</th>\n",
       "      <th>QUALITY</th>\n",
       "      <th>ADULT</th>\n",
       "      <th>SENIOR</th>\n",
       "    </tr>\n",
       "  </thead>\n",
       "  <tbody>\n",
       "    <tr>\n",
       "      <th>0</th>\n",
       "      <td>40</td>\n",
       "      <td>bi-weekly</td>\n",
       "      <td>1</td>\n",
       "      <td>3135</td>\n",
       "      <td>0</td>\n",
       "      <td>3</td>\n",
       "      <td>3</td>\n",
       "      <td>6</td>\n",
       "      <td>2</td>\n",
       "      <td>1</td>\n",
       "      <td>...</td>\n",
       "      <td>0.515977</td>\n",
       "      <td>0.580918</td>\n",
       "      <td>0.380918</td>\n",
       "      <td>10</td>\n",
       "      <td>36</td>\n",
       "      <td>30</td>\n",
       "      <td>0.661151</td>\n",
       "      <td>0.480918</td>\n",
       "      <td>1</td>\n",
       "      <td>0</td>\n",
       "    </tr>\n",
       "    <tr>\n",
       "      <th>1</th>\n",
       "      <td>61</td>\n",
       "      <td>weekly</td>\n",
       "      <td>0</td>\n",
       "      <td>3180</td>\n",
       "      <td>0</td>\n",
       "      <td>6</td>\n",
       "      <td>3</td>\n",
       "      <td>2</td>\n",
       "      <td>7</td>\n",
       "      <td>1</td>\n",
       "      <td>...</td>\n",
       "      <td>0.826402</td>\n",
       "      <td>0.730720</td>\n",
       "      <td>0.630720</td>\n",
       "      <td>9</td>\n",
       "      <td>72</td>\n",
       "      <td>86</td>\n",
       "      <td>0.789841</td>\n",
       "      <td>0.680720</td>\n",
       "      <td>0</td>\n",
       "      <td>1</td>\n",
       "    </tr>\n",
       "    <tr>\n",
       "      <th>2</th>\n",
       "      <td>23</td>\n",
       "      <td>weekly</td>\n",
       "      <td>0</td>\n",
       "      <td>1540</td>\n",
       "      <td>6</td>\n",
       "      <td>0</td>\n",
       "      <td>0</td>\n",
       "      <td>7</td>\n",
       "      <td>1</td>\n",
       "      <td>1</td>\n",
       "      <td>...</td>\n",
       "      <td>0.762284</td>\n",
       "      <td>0.531712</td>\n",
       "      <td>0.531712</td>\n",
       "      <td>7</td>\n",
       "      <td>6</td>\n",
       "      <td>19</td>\n",
       "      <td>0.691712</td>\n",
       "      <td>0.531712</td>\n",
       "      <td>1</td>\n",
       "      <td>0</td>\n",
       "    </tr>\n",
       "    <tr>\n",
       "      <th>3</th>\n",
       "      <td>40</td>\n",
       "      <td>bi-weekly</td>\n",
       "      <td>0</td>\n",
       "      <td>5230</td>\n",
       "      <td>0</td>\n",
       "      <td>6</td>\n",
       "      <td>1</td>\n",
       "      <td>2</td>\n",
       "      <td>7</td>\n",
       "      <td>1</td>\n",
       "      <td>...</td>\n",
       "      <td>0.778831</td>\n",
       "      <td>0.792552</td>\n",
       "      <td>0.592552</td>\n",
       "      <td>8</td>\n",
       "      <td>72</td>\n",
       "      <td>86</td>\n",
       "      <td>0.793179</td>\n",
       "      <td>0.692552</td>\n",
       "      <td>1</td>\n",
       "      <td>0</td>\n",
       "    </tr>\n",
       "    <tr>\n",
       "      <th>4</th>\n",
       "      <td>33</td>\n",
       "      <td>semi-monthly</td>\n",
       "      <td>0</td>\n",
       "      <td>3590</td>\n",
       "      <td>0</td>\n",
       "      <td>5</td>\n",
       "      <td>2</td>\n",
       "      <td>2</td>\n",
       "      <td>8</td>\n",
       "      <td>1</td>\n",
       "      <td>...</td>\n",
       "      <td>0.665523</td>\n",
       "      <td>0.744634</td>\n",
       "      <td>0.744634</td>\n",
       "      <td>12</td>\n",
       "      <td>60</td>\n",
       "      <td>98</td>\n",
       "      <td>0.688483</td>\n",
       "      <td>0.744634</td>\n",
       "      <td>1</td>\n",
       "      <td>0</td>\n",
       "    </tr>\n",
       "  </tbody>\n",
       "</table>\n",
       "<p>5 rows × 25 columns</p>\n",
       "</div>"
      ],
      "text/plain": [
       "   age  pay_schedule  home_owner  income  months_employed  years_employed  \\\n",
       "0   40     bi-weekly           1    3135                0               3   \n",
       "1   61        weekly           0    3180                0               6   \n",
       "2   23        weekly           0    1540                6               0   \n",
       "3   40     bi-weekly           0    5230                0               6   \n",
       "4   33  semi-monthly           0    3590                0               5   \n",
       "\n",
       "   current_address_year  personal_account_m  personal_account_y  has_debt  \\\n",
       "0                     3                   6                   2         1   \n",
       "1                     3                   2                   7         1   \n",
       "2                     0                   7                   1         1   \n",
       "3                     1                   2                   7         1   \n",
       "4                     2                   2                   8         1   \n",
       "\n",
       "   ...  risk_score_5  ext_quality_score  ext_quality_score_2  \\\n",
       "0  ...      0.515977           0.580918             0.380918   \n",
       "1  ...      0.826402           0.730720             0.630720   \n",
       "2  ...      0.762284           0.531712             0.531712   \n",
       "3  ...      0.778831           0.792552             0.592552   \n",
       "4  ...      0.665523           0.744634             0.744634   \n",
       "\n",
       "   inquiries_last_month  EMPLOYED  PA      RISK   QUALITY  ADULT  SENIOR  \n",
       "0                    10        36  30  0.661151  0.480918      1       0  \n",
       "1                     9        72  86  0.789841  0.680720      0       1  \n",
       "2                     7         6  19  0.691712  0.531712      1       0  \n",
       "3                     8        72  86  0.793179  0.692552      1       0  \n",
       "4                    12        60  98  0.688483  0.744634      1       0  \n",
       "\n",
       "[5 rows x 25 columns]"
      ]
     },
     "execution_count": 65,
     "metadata": {},
     "output_type": "execute_result"
    }
   ],
   "source": [
    "#Concating the featured data and unfeatured data\n",
    "X=pd.concat([X,featured],axis=1)\n",
    "X.head()"
   ]
  },
  {
   "cell_type": "code",
   "execution_count": 66,
   "metadata": {},
   "outputs": [],
   "source": [
    "#Dropping the unnecessay data from our dataset\n",
    "X=X.drop(labels=[\"age\",\"months_employed\",\"years_employed\",\"personal_account_m\",\"personal_account_y\",\"risk_score_2\",\"risk_score_3\"\n",
    "                ,\"risk_score_4\",\"risk_score_5\",\"ext_quality_score_2\",\"ext_quality_score\"],axis=1)"
   ]
  },
  {
   "cell_type": "code",
   "execution_count": 67,
   "metadata": {},
   "outputs": [
    {
     "data": {
      "text/html": [
       "<div>\n",
       "<style scoped>\n",
       "    .dataframe tbody tr th:only-of-type {\n",
       "        vertical-align: middle;\n",
       "    }\n",
       "\n",
       "    .dataframe tbody tr th {\n",
       "        vertical-align: top;\n",
       "    }\n",
       "\n",
       "    .dataframe thead th {\n",
       "        text-align: right;\n",
       "    }\n",
       "</style>\n",
       "<table border=\"1\" class=\"dataframe\">\n",
       "  <thead>\n",
       "    <tr style=\"text-align: right;\">\n",
       "      <th></th>\n",
       "      <th>pay_schedule</th>\n",
       "      <th>home_owner</th>\n",
       "      <th>income</th>\n",
       "      <th>current_address_year</th>\n",
       "      <th>has_debt</th>\n",
       "      <th>amount_requested</th>\n",
       "      <th>risk_score</th>\n",
       "      <th>inquiries_last_month</th>\n",
       "      <th>EMPLOYED</th>\n",
       "      <th>PA</th>\n",
       "      <th>RISK</th>\n",
       "      <th>QUALITY</th>\n",
       "      <th>ADULT</th>\n",
       "      <th>SENIOR</th>\n",
       "    </tr>\n",
       "  </thead>\n",
       "  <tbody>\n",
       "    <tr>\n",
       "      <th>0</th>\n",
       "      <td>bi-weekly</td>\n",
       "      <td>1</td>\n",
       "      <td>3135</td>\n",
       "      <td>3</td>\n",
       "      <td>1</td>\n",
       "      <td>550</td>\n",
       "      <td>36200</td>\n",
       "      <td>10</td>\n",
       "      <td>36</td>\n",
       "      <td>30</td>\n",
       "      <td>0.661151</td>\n",
       "      <td>0.480918</td>\n",
       "      <td>1</td>\n",
       "      <td>0</td>\n",
       "    </tr>\n",
       "    <tr>\n",
       "      <th>1</th>\n",
       "      <td>weekly</td>\n",
       "      <td>0</td>\n",
       "      <td>3180</td>\n",
       "      <td>3</td>\n",
       "      <td>1</td>\n",
       "      <td>600</td>\n",
       "      <td>30150</td>\n",
       "      <td>9</td>\n",
       "      <td>72</td>\n",
       "      <td>86</td>\n",
       "      <td>0.789841</td>\n",
       "      <td>0.680720</td>\n",
       "      <td>0</td>\n",
       "      <td>1</td>\n",
       "    </tr>\n",
       "    <tr>\n",
       "      <th>2</th>\n",
       "      <td>weekly</td>\n",
       "      <td>0</td>\n",
       "      <td>1540</td>\n",
       "      <td>0</td>\n",
       "      <td>1</td>\n",
       "      <td>450</td>\n",
       "      <td>34550</td>\n",
       "      <td>7</td>\n",
       "      <td>6</td>\n",
       "      <td>19</td>\n",
       "      <td>0.691712</td>\n",
       "      <td>0.531712</td>\n",
       "      <td>1</td>\n",
       "      <td>0</td>\n",
       "    </tr>\n",
       "    <tr>\n",
       "      <th>3</th>\n",
       "      <td>bi-weekly</td>\n",
       "      <td>0</td>\n",
       "      <td>5230</td>\n",
       "      <td>1</td>\n",
       "      <td>1</td>\n",
       "      <td>700</td>\n",
       "      <td>42150</td>\n",
       "      <td>8</td>\n",
       "      <td>72</td>\n",
       "      <td>86</td>\n",
       "      <td>0.793179</td>\n",
       "      <td>0.692552</td>\n",
       "      <td>1</td>\n",
       "      <td>0</td>\n",
       "    </tr>\n",
       "    <tr>\n",
       "      <th>4</th>\n",
       "      <td>semi-monthly</td>\n",
       "      <td>0</td>\n",
       "      <td>3590</td>\n",
       "      <td>2</td>\n",
       "      <td>1</td>\n",
       "      <td>1100</td>\n",
       "      <td>53850</td>\n",
       "      <td>12</td>\n",
       "      <td>60</td>\n",
       "      <td>98</td>\n",
       "      <td>0.688483</td>\n",
       "      <td>0.744634</td>\n",
       "      <td>1</td>\n",
       "      <td>0</td>\n",
       "    </tr>\n",
       "  </tbody>\n",
       "</table>\n",
       "</div>"
      ],
      "text/plain": [
       "   pay_schedule  home_owner  income  current_address_year  has_debt  \\\n",
       "0     bi-weekly           1    3135                     3         1   \n",
       "1        weekly           0    3180                     3         1   \n",
       "2        weekly           0    1540                     0         1   \n",
       "3     bi-weekly           0    5230                     1         1   \n",
       "4  semi-monthly           0    3590                     2         1   \n",
       "\n",
       "   amount_requested  risk_score  inquiries_last_month  EMPLOYED  PA      RISK  \\\n",
       "0               550       36200                    10        36  30  0.661151   \n",
       "1               600       30150                     9        72  86  0.789841   \n",
       "2               450       34550                     7         6  19  0.691712   \n",
       "3               700       42150                     8        72  86  0.793179   \n",
       "4              1100       53850                    12        60  98  0.688483   \n",
       "\n",
       "    QUALITY  ADULT  SENIOR  \n",
       "0  0.480918      1       0  \n",
       "1  0.680720      0       1  \n",
       "2  0.531712      1       0  \n",
       "3  0.692552      1       0  \n",
       "4  0.744634      1       0  "
      ]
     },
     "execution_count": 67,
     "metadata": {},
     "output_type": "execute_result"
    }
   ],
   "source": [
    "X.head()"
   ]
  },
  {
   "cell_type": "code",
   "execution_count": 68,
   "metadata": {},
   "outputs": [
    {
     "data": {
      "text/html": [
       "<div>\n",
       "<style scoped>\n",
       "    .dataframe tbody tr th:only-of-type {\n",
       "        vertical-align: middle;\n",
       "    }\n",
       "\n",
       "    .dataframe tbody tr th {\n",
       "        vertical-align: top;\n",
       "    }\n",
       "\n",
       "    .dataframe thead th {\n",
       "        text-align: right;\n",
       "    }\n",
       "</style>\n",
       "<table border=\"1\" class=\"dataframe\">\n",
       "  <thead>\n",
       "    <tr style=\"text-align: right;\">\n",
       "      <th></th>\n",
       "      <th>monthly</th>\n",
       "      <th>semi-monthly</th>\n",
       "      <th>weekly</th>\n",
       "    </tr>\n",
       "  </thead>\n",
       "  <tbody>\n",
       "    <tr>\n",
       "      <th>0</th>\n",
       "      <td>0</td>\n",
       "      <td>0</td>\n",
       "      <td>0</td>\n",
       "    </tr>\n",
       "    <tr>\n",
       "      <th>1</th>\n",
       "      <td>0</td>\n",
       "      <td>0</td>\n",
       "      <td>1</td>\n",
       "    </tr>\n",
       "    <tr>\n",
       "      <th>2</th>\n",
       "      <td>0</td>\n",
       "      <td>0</td>\n",
       "      <td>1</td>\n",
       "    </tr>\n",
       "    <tr>\n",
       "      <th>3</th>\n",
       "      <td>0</td>\n",
       "      <td>0</td>\n",
       "      <td>0</td>\n",
       "    </tr>\n",
       "    <tr>\n",
       "      <th>4</th>\n",
       "      <td>0</td>\n",
       "      <td>1</td>\n",
       "      <td>0</td>\n",
       "    </tr>\n",
       "  </tbody>\n",
       "</table>\n",
       "</div>"
      ],
      "text/plain": [
       "   monthly  semi-monthly  weekly\n",
       "0        0             0       0\n",
       "1        0             0       1\n",
       "2        0             0       1\n",
       "3        0             0       0\n",
       "4        0             1       0"
      ]
     },
     "execution_count": 68,
     "metadata": {},
     "output_type": "execute_result"
    }
   ],
   "source": [
    "#Creating Dummy Variable\n",
    "dummy2=pd.get_dummies(X[\"pay_schedule\"])\n",
    "\n",
    "#Removing the trap\n",
    "dummy2=dummy2.drop(labels=[\"bi-weekly\"],axis=1)\n",
    "dummy2.head()"
   ]
  },
  {
   "cell_type": "code",
   "execution_count": 69,
   "metadata": {},
   "outputs": [
    {
     "data": {
      "text/html": [
       "<div>\n",
       "<style scoped>\n",
       "    .dataframe tbody tr th:only-of-type {\n",
       "        vertical-align: middle;\n",
       "    }\n",
       "\n",
       "    .dataframe tbody tr th {\n",
       "        vertical-align: top;\n",
       "    }\n",
       "\n",
       "    .dataframe thead th {\n",
       "        text-align: right;\n",
       "    }\n",
       "</style>\n",
       "<table border=\"1\" class=\"dataframe\">\n",
       "  <thead>\n",
       "    <tr style=\"text-align: right;\">\n",
       "      <th></th>\n",
       "      <th>home_owner</th>\n",
       "      <th>income</th>\n",
       "      <th>current_address_year</th>\n",
       "      <th>has_debt</th>\n",
       "      <th>amount_requested</th>\n",
       "      <th>risk_score</th>\n",
       "      <th>inquiries_last_month</th>\n",
       "      <th>EMPLOYED</th>\n",
       "      <th>PA</th>\n",
       "      <th>RISK</th>\n",
       "      <th>QUALITY</th>\n",
       "      <th>ADULT</th>\n",
       "      <th>SENIOR</th>\n",
       "      <th>monthly</th>\n",
       "      <th>semi-monthly</th>\n",
       "      <th>weekly</th>\n",
       "    </tr>\n",
       "  </thead>\n",
       "  <tbody>\n",
       "    <tr>\n",
       "      <th>0</th>\n",
       "      <td>1</td>\n",
       "      <td>3135</td>\n",
       "      <td>3</td>\n",
       "      <td>1</td>\n",
       "      <td>550</td>\n",
       "      <td>36200</td>\n",
       "      <td>10</td>\n",
       "      <td>36</td>\n",
       "      <td>30</td>\n",
       "      <td>0.661151</td>\n",
       "      <td>0.480918</td>\n",
       "      <td>1</td>\n",
       "      <td>0</td>\n",
       "      <td>0</td>\n",
       "      <td>0</td>\n",
       "      <td>0</td>\n",
       "    </tr>\n",
       "    <tr>\n",
       "      <th>1</th>\n",
       "      <td>0</td>\n",
       "      <td>3180</td>\n",
       "      <td>3</td>\n",
       "      <td>1</td>\n",
       "      <td>600</td>\n",
       "      <td>30150</td>\n",
       "      <td>9</td>\n",
       "      <td>72</td>\n",
       "      <td>86</td>\n",
       "      <td>0.789841</td>\n",
       "      <td>0.680720</td>\n",
       "      <td>0</td>\n",
       "      <td>1</td>\n",
       "      <td>0</td>\n",
       "      <td>0</td>\n",
       "      <td>1</td>\n",
       "    </tr>\n",
       "    <tr>\n",
       "      <th>2</th>\n",
       "      <td>0</td>\n",
       "      <td>1540</td>\n",
       "      <td>0</td>\n",
       "      <td>1</td>\n",
       "      <td>450</td>\n",
       "      <td>34550</td>\n",
       "      <td>7</td>\n",
       "      <td>6</td>\n",
       "      <td>19</td>\n",
       "      <td>0.691712</td>\n",
       "      <td>0.531712</td>\n",
       "      <td>1</td>\n",
       "      <td>0</td>\n",
       "      <td>0</td>\n",
       "      <td>0</td>\n",
       "      <td>1</td>\n",
       "    </tr>\n",
       "    <tr>\n",
       "      <th>3</th>\n",
       "      <td>0</td>\n",
       "      <td>5230</td>\n",
       "      <td>1</td>\n",
       "      <td>1</td>\n",
       "      <td>700</td>\n",
       "      <td>42150</td>\n",
       "      <td>8</td>\n",
       "      <td>72</td>\n",
       "      <td>86</td>\n",
       "      <td>0.793179</td>\n",
       "      <td>0.692552</td>\n",
       "      <td>1</td>\n",
       "      <td>0</td>\n",
       "      <td>0</td>\n",
       "      <td>0</td>\n",
       "      <td>0</td>\n",
       "    </tr>\n",
       "    <tr>\n",
       "      <th>4</th>\n",
       "      <td>0</td>\n",
       "      <td>3590</td>\n",
       "      <td>2</td>\n",
       "      <td>1</td>\n",
       "      <td>1100</td>\n",
       "      <td>53850</td>\n",
       "      <td>12</td>\n",
       "      <td>60</td>\n",
       "      <td>98</td>\n",
       "      <td>0.688483</td>\n",
       "      <td>0.744634</td>\n",
       "      <td>1</td>\n",
       "      <td>0</td>\n",
       "      <td>0</td>\n",
       "      <td>1</td>\n",
       "      <td>0</td>\n",
       "    </tr>\n",
       "  </tbody>\n",
       "</table>\n",
       "</div>"
      ],
      "text/plain": [
       "   home_owner  income  current_address_year  has_debt  amount_requested  \\\n",
       "0           1    3135                     3         1               550   \n",
       "1           0    3180                     3         1               600   \n",
       "2           0    1540                     0         1               450   \n",
       "3           0    5230                     1         1               700   \n",
       "4           0    3590                     2         1              1100   \n",
       "\n",
       "   risk_score  inquiries_last_month  EMPLOYED  PA      RISK   QUALITY  ADULT  \\\n",
       "0       36200                    10        36  30  0.661151  0.480918      1   \n",
       "1       30150                     9        72  86  0.789841  0.680720      0   \n",
       "2       34550                     7         6  19  0.691712  0.531712      1   \n",
       "3       42150                     8        72  86  0.793179  0.692552      1   \n",
       "4       53850                    12        60  98  0.688483  0.744634      1   \n",
       "\n",
       "   SENIOR  monthly  semi-monthly  weekly  \n",
       "0       0        0             0       0  \n",
       "1       1        0             0       1  \n",
       "2       0        0             0       1  \n",
       "3       0        0             0       0  \n",
       "4       0        0             1       0  "
      ]
     },
     "execution_count": 69,
     "metadata": {},
     "output_type": "execute_result"
    }
   ],
   "source": [
    "#Dropping the pay_schedule since dummy variable is created\n",
    "X=X.drop(labels=[\"pay_schedule\"],axis=1)\n",
    "\n",
    "#Concating the data and dummy variable\n",
    "X=pd.concat([X,dummy2],axis=1)\n",
    "X.head()"
   ]
  },
  {
   "cell_type": "markdown",
   "metadata": {},
   "source": [
    "#### Data Transformation and Model Building"
   ]
  },
  {
   "cell_type": "code",
   "execution_count": 70,
   "metadata": {},
   "outputs": [],
   "source": [
    "from sklearn.model_selection import train_test_split\n",
    "from sklearn.preprocessing import StandardScaler"
   ]
  },
  {
   "cell_type": "code",
   "execution_count": 71,
   "metadata": {},
   "outputs": [],
   "source": [
    "scale=StandardScaler()\n",
    "#Transforming the data\n",
    "X=scale.fit_transform(X)"
   ]
  },
  {
   "cell_type": "markdown",
   "metadata": {},
   "source": [
    "##### Splitting the Data"
   ]
  },
  {
   "cell_type": "code",
   "execution_count": 72,
   "metadata": {},
   "outputs": [],
   "source": [
    "#from sklearn.model_selection import train_test_split\n",
    "xtrain,xtest,ytrain,ytest=train_test_split(X,Y,test_size=0.25,random_state=0)"
   ]
  },
  {
   "cell_type": "markdown",
   "metadata": {},
   "source": [
    "## Random Forest"
   ]
  },
  {
   "cell_type": "code",
   "execution_count": 75,
   "metadata": {},
   "outputs": [],
   "source": [
    "from sklearn.ensemble import RandomForestClassifier, GradientBoostingClassifier"
   ]
  },
  {
   "cell_type": "code",
   "execution_count": 76,
   "metadata": {},
   "outputs": [],
   "source": [
    "#Initializing the object\n",
    "model=RandomForestClassifier()"
   ]
  },
  {
   "cell_type": "markdown",
   "metadata": {},
   "source": [
    "<div>\n",
    "    <br>\n",
    "<img src=\"../images/random.png\" width=\"600\"/>\n",
    "</div>"
   ]
  },
  {
   "cell_type": "code",
   "execution_count": 77,
   "metadata": {},
   "outputs": [
    {
     "data": {
      "text/plain": [
       "RandomForestClassifier(bootstrap=True, ccp_alpha=0.0, class_weight=None,\n",
       "                       criterion='gini', max_depth=None, max_features='auto',\n",
       "                       max_leaf_nodes=None, max_samples=None,\n",
       "                       min_impurity_decrease=0.0, min_impurity_split=None,\n",
       "                       min_samples_leaf=1, min_samples_split=2,\n",
       "                       min_weight_fraction_leaf=0.0, n_estimators=100,\n",
       "                       n_jobs=None, oob_score=False, random_state=None,\n",
       "                       verbose=0, warm_start=False)"
      ]
     },
     "execution_count": 77,
     "metadata": {},
     "output_type": "execute_result"
    }
   ],
   "source": [
    "#Fitting the model\n",
    "model.fit(xtrain,ytrain)"
   ]
  },
  {
   "cell_type": "code",
   "execution_count": 78,
   "metadata": {},
   "outputs": [],
   "source": [
    "#Predictions on test data\n",
    "pred=model.predict(xtest)"
   ]
  },
  {
   "cell_type": "code",
   "execution_count": 79,
   "metadata": {},
   "outputs": [
    {
     "data": {
      "text/plain": [
       "0.6240786240786241"
      ]
     },
     "execution_count": 79,
     "metadata": {},
     "output_type": "execute_result"
    }
   ],
   "source": [
    "accuracy_score(ytest,pred)"
   ]
  },
  {
   "cell_type": "markdown",
   "metadata": {},
   "source": [
    "### Gradient Boosting"
   ]
  },
  {
   "cell_type": "markdown",
   "metadata": {},
   "source": [
    "\n",
    "<div>\n",
    "    <br>\n",
    "<img src=\"../images/gradient.png\" width=\"600\"/>\n",
    "</div>\n",
    "\n",
    "\n",
    "\n",
    "<a href=\"https://medium.com/mlreview/gradient-boosting-from-scratch-1e317ae4587d\">Read More</a>"
   ]
  },
  {
   "cell_type": "code",
   "execution_count": 82,
   "metadata": {},
   "outputs": [
    {
     "name": "stdout",
     "output_type": "stream",
     "text": [
      "Learning rate:  0.05\n",
      "Accuracy score (training): 0.551\n",
      "Accuracy score (validation): 0.544\n",
      "Learning rate:  0.075\n",
      "Accuracy score (training): 0.569\n",
      "Accuracy score (validation): 0.560\n",
      "Learning rate:  0.1\n",
      "Accuracy score (training): 0.580\n",
      "Accuracy score (validation): 0.561\n",
      "Learning rate:  0.25\n",
      "Accuracy score (training): 0.600\n",
      "Accuracy score (validation): 0.578\n",
      "Learning rate:  0.5\n",
      "Accuracy score (training): 0.608\n",
      "Accuracy score (validation): 0.574\n",
      "Learning rate:  0.75\n",
      "Accuracy score (training): 0.618\n",
      "Accuracy score (validation): 0.578\n",
      "Learning rate:  1\n",
      "Accuracy score (training): 0.622\n",
      "Accuracy score (validation): 0.583\n"
     ]
    }
   ],
   "source": [
    "lr_list = [0.05, 0.075, 0.1, 0.25, 0.5, 0.75, 1]\n",
    "\n",
    "for learning_rate in lr_list:\n",
    "    gb_clf = GradientBoostingClassifier(n_estimators=20, learning_rate=learning_rate, max_features=2, max_depth=2, random_state=0)\n",
    "    gb_clf.fit(xtrain, ytrain)\n",
    "    print(\"Learning rate: \", learning_rate)\n",
    "    print(\"Accuracy score (training): {0:.3f}\".format(gb_clf.score(xtrain, ytrain)))\n",
    "    print(\"Accuracy score (validation): {0:.3f}\".format(gb_clf.score(xtest, ytest)))"
   ]
  },
  {
   "cell_type": "markdown",
   "metadata": {},
   "source": [
    "### XgBoost\n",
    "\n",
    "\n",
    "<div>\n",
    "    <br>\n",
    "<img src=\"../images/xg_boost.jpeg\" width=\"600\"/>\n",
    "</div>"
   ]
  },
  {
   "cell_type": "code",
   "execution_count": 89,
   "metadata": {},
   "outputs": [],
   "source": [
    "#Implementing xgboost\n",
    "from xgboost import XGBClassifier"
   ]
  },
  {
   "cell_type": "code",
   "execution_count": 90,
   "metadata": {},
   "outputs": [
    {
     "data": {
      "text/plain": [
       "XGBClassifier(base_score=0.5, booster=None, colsample_bylevel=1,\n",
       "              colsample_bynode=1, colsample_bytree=1, gamma=0, gpu_id=-1,\n",
       "              importance_type='gain', interaction_constraints=None,\n",
       "              learning_rate=0.300000012, max_delta_step=0, max_depth=6,\n",
       "              min_child_weight=1, missing=nan, monotone_constraints=None,\n",
       "              n_estimators=100, n_jobs=0, num_parallel_tree=1,\n",
       "              objective='binary:logistic', random_state=0, reg_alpha=0,\n",
       "              reg_lambda=1, scale_pos_weight=1, subsample=1, tree_method=None,\n",
       "              validate_parameters=False, verbosity=None)"
      ]
     },
     "execution_count": 90,
     "metadata": {},
     "output_type": "execute_result"
    }
   ],
   "source": [
    "#Initializing the model\n",
    "xgb_clf = XGBClassifier()\n",
    "xgb_clf.fit(xtrain, ytrain)"
   ]
  },
  {
   "cell_type": "code",
   "execution_count": 91,
   "metadata": {},
   "outputs": [
    {
     "name": "stdout",
     "output_type": "stream",
     "text": [
      "0.6359169086441814\n"
     ]
    }
   ],
   "source": [
    "score = xgb_clf.score(xtest, ytest)\n",
    "print(score)"
   ]
  },
  {
   "cell_type": "markdown",
   "metadata": {},
   "source": [
    "#### Support Vector Machine\n",
    "\n",
    "\n",
    "<br>\n",
    "<img src=\"../images/sv.jpg\" height=100px >\n",
    "  \n",
    "  \n",
    "<br>\n",
    "<p>For more reading click <a href=\"https://monkeylearn.com/blog/introduction-to-support-vector-machines-svm/\">here</a>.<br><br>\n",
    "    \n",
    "<br>"
   ]
  },
  {
   "cell_type": "code",
   "execution_count": 92,
   "metadata": {},
   "outputs": [
    {
     "data": {
      "text/plain": [
       "SVC(C=1.0, break_ties=False, cache_size=200, class_weight=None, coef0=0.0,\n",
       "    decision_function_shape='ovr', degree=3, gamma='scale', kernel='rbf',\n",
       "    max_iter=-1, probability=False, random_state=0, shrinking=True, tol=0.001,\n",
       "    verbose=False)"
      ]
     },
     "execution_count": 92,
     "metadata": {},
     "output_type": "execute_result"
    }
   ],
   "source": [
    "from sklearn.svm import SVC\n",
    "classifier = SVC(random_state = 0, kernel = 'rbf')\n",
    "classifier.fit(xtrain, ytrain)"
   ]
  },
  {
   "cell_type": "code",
   "execution_count": 93,
   "metadata": {},
   "outputs": [],
   "source": [
    "# Predicting Test Set\n",
    "y_pred = classifier.predict(xtest)"
   ]
  },
  {
   "cell_type": "code",
   "execution_count": 95,
   "metadata": {},
   "outputs": [
    {
     "name": "stdout",
     "output_type": "stream",
     "text": [
      "0.5887871342416797\n"
     ]
    }
   ],
   "source": [
    "#Finding the Accuracy Score\n",
    "acc = accuracy_score(ytest, y_pred)\n",
    "print(acc)"
   ]
  },
  {
   "cell_type": "markdown",
   "metadata": {},
   "source": [
    "\n",
    "<br>\n",
    "<h4>Models implemented:</h4>\n",
    "\n",
    "<ul>\n",
    "    <li>Artificial Neural Network</li>\n",
    "    <li>Random Forest Classifier</li>\n",
    "    <li>Gradient Boosting</li>\n",
    "    <li>Support Vector Machine</li>\n",
    "    <li>Xg Boost</li>\n",
    "</ul>"
   ]
  },
  {
   "cell_type": "markdown",
   "metadata": {},
   "source": [
    "<center><h2><u>Conclusion</u><h2></center\n",
    "    \n",
    " <ul>\n",
    "    <li>XgBoost Algorithm performs the best and give the accuracy of 62 %</li>\n",
    "    <li>We see that the ANN with no feature engineering performs far better than SVM, Random Forest with feature engineering</li>\n",
    "    <li>Though we didnt get very high accuracy but this can help the banks in knowing whether the customer is risky or not.</li>\n",
    "</ul>"
   ]
  }
 ],
 "metadata": {
  "kernelspec": {
   "display_name": "Python 3",
   "language": "python",
   "name": "python3"
  },
  "language_info": {
   "codemirror_mode": {
    "name": "ipython",
    "version": 3
   },
   "file_extension": ".py",
   "mimetype": "text/x-python",
   "name": "python",
   "nbconvert_exporter": "python",
   "pygments_lexer": "ipython3",
   "version": "3.6.10"
  }
 },
 "nbformat": 4,
 "nbformat_minor": 2
}
